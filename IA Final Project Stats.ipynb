{
 "cells": [
  {
   "cell_type": "markdown",
   "metadata": {},
   "source": [
    "## Information Architecture - Project Statistics - Marlee, Jackie, Yuehao, Ke, Alan"
   ]
  },
  {
   "cell_type": "markdown",
   "metadata": {},
   "source": [
    "Our project revolves around 311 NYC complaint data, mainly from 2019 t0 2021. Part of this data is the amount of complaints per zip code. The first item we will look into is the relationship between NYC zip codes' median income and the frequency of complaints directed to 311. "
   ]
  },
  {
   "cell_type": "code",
   "execution_count": 122,
   "metadata": {},
   "outputs": [
    {
     "data": {
      "text/html": [
       "<div>\n",
       "<style scoped>\n",
       "    .dataframe tbody tr th:only-of-type {\n",
       "        vertical-align: middle;\n",
       "    }\n",
       "\n",
       "    .dataframe tbody tr th {\n",
       "        vertical-align: top;\n",
       "    }\n",
       "\n",
       "    .dataframe thead th {\n",
       "        text-align: right;\n",
       "    }\n",
       "</style>\n",
       "<table border=\"1\" class=\"dataframe\">\n",
       "  <thead>\n",
       "    <tr style=\"text-align: right;\">\n",
       "      <th></th>\n",
       "      <th>Location</th>\n",
       "      <th>All_Households</th>\n",
       "      <th>Families</th>\n",
       "      <th>Families_with_Children</th>\n",
       "      <th>Families_without_Children</th>\n",
       "    </tr>\n",
       "  </thead>\n",
       "  <tbody>\n",
       "    <tr>\n",
       "      <th>0</th>\n",
       "      <td>10001</td>\n",
       "      <td>92840</td>\n",
       "      <td>122776</td>\n",
       "      <td>106452</td>\n",
       "      <td>132545.0</td>\n",
       "    </tr>\n",
       "    <tr>\n",
       "      <th>1</th>\n",
       "      <td>10002</td>\n",
       "      <td>36982</td>\n",
       "      <td>40045</td>\n",
       "      <td>42054</td>\n",
       "      <td>38639.0</td>\n",
       "    </tr>\n",
       "    <tr>\n",
       "      <th>2</th>\n",
       "      <td>10003</td>\n",
       "      <td>118161</td>\n",
       "      <td>183787</td>\n",
       "      <td>250001</td>\n",
       "      <td>153480.0</td>\n",
       "    </tr>\n",
       "    <tr>\n",
       "      <th>3</th>\n",
       "      <td>10004</td>\n",
       "      <td>190223</td>\n",
       "      <td>205202</td>\n",
       "      <td>244000</td>\n",
       "      <td>204130.0</td>\n",
       "    </tr>\n",
       "    <tr>\n",
       "      <th>4</th>\n",
       "      <td>10005</td>\n",
       "      <td>189702</td>\n",
       "      <td>241094</td>\n",
       "      <td>250001</td>\n",
       "      <td>202042.0</td>\n",
       "    </tr>\n",
       "    <tr>\n",
       "      <th>...</th>\n",
       "      <td>...</td>\n",
       "      <td>...</td>\n",
       "      <td>...</td>\n",
       "      <td>...</td>\n",
       "      <td>...</td>\n",
       "    </tr>\n",
       "    <tr>\n",
       "      <th>176</th>\n",
       "      <td>11691</td>\n",
       "      <td>50267</td>\n",
       "      <td>61360</td>\n",
       "      <td>60325</td>\n",
       "      <td>64441.0</td>\n",
       "    </tr>\n",
       "    <tr>\n",
       "      <th>177</th>\n",
       "      <td>11692</td>\n",
       "      <td>46819</td>\n",
       "      <td>50516</td>\n",
       "      <td>42614</td>\n",
       "      <td>57188.0</td>\n",
       "    </tr>\n",
       "    <tr>\n",
       "      <th>178</th>\n",
       "      <td>11693</td>\n",
       "      <td>60569</td>\n",
       "      <td>66250</td>\n",
       "      <td>62188</td>\n",
       "      <td>67741.0</td>\n",
       "    </tr>\n",
       "    <tr>\n",
       "      <th>179</th>\n",
       "      <td>11694</td>\n",
       "      <td>84485</td>\n",
       "      <td>111046</td>\n",
       "      <td>120943</td>\n",
       "      <td>107721.0</td>\n",
       "    </tr>\n",
       "    <tr>\n",
       "      <th>180</th>\n",
       "      <td>11697</td>\n",
       "      <td>105750</td>\n",
       "      <td>123438</td>\n",
       "      <td>189400</td>\n",
       "      <td>115000.0</td>\n",
       "    </tr>\n",
       "  </tbody>\n",
       "</table>\n",
       "<p>181 rows × 5 columns</p>\n",
       "</div>"
      ],
      "text/plain": [
       "     Location  All_Households  Families  Families_with_Children  \\\n",
       "0       10001           92840    122776                  106452   \n",
       "1       10002           36982     40045                   42054   \n",
       "2       10003          118161    183787                  250001   \n",
       "3       10004          190223    205202                  244000   \n",
       "4       10005          189702    241094                  250001   \n",
       "..        ...             ...       ...                     ...   \n",
       "176     11691           50267     61360                   60325   \n",
       "177     11692           46819     50516                   42614   \n",
       "178     11693           60569     66250                   62188   \n",
       "179     11694           84485    111046                  120943   \n",
       "180     11697          105750    123438                  189400   \n",
       "\n",
       "     Families_without_Children  \n",
       "0                     132545.0  \n",
       "1                      38639.0  \n",
       "2                     153480.0  \n",
       "3                     204130.0  \n",
       "4                     202042.0  \n",
       "..                         ...  \n",
       "176                    64441.0  \n",
       "177                    57188.0  \n",
       "178                    67741.0  \n",
       "179                   107721.0  \n",
       "180                   115000.0  \n",
       "\n",
       "[181 rows x 5 columns]"
      ]
     },
     "execution_count": 122,
     "metadata": {},
     "output_type": "execute_result"
    }
   ],
   "source": [
    "#import pandas, read median income per NYC zipcode into df\n",
    "import pandas as pd\n",
    "df=pd.read_csv('https://raw.githubusercontent.com/MarlaGoodman/IA-Project/main/nyc_median_income.csv')\n",
    "\n",
    "#drop 'index' column\n",
    "df.drop(['index'],axis=1)"
   ]
  },
  {
   "cell_type": "code",
   "execution_count": 123,
   "metadata": {},
   "outputs": [
    {
     "data": {
      "text/html": [
       "<div>\n",
       "<style scoped>\n",
       "    .dataframe tbody tr th:only-of-type {\n",
       "        vertical-align: middle;\n",
       "    }\n",
       "\n",
       "    .dataframe tbody tr th {\n",
       "        vertical-align: top;\n",
       "    }\n",
       "\n",
       "    .dataframe thead th {\n",
       "        text-align: right;\n",
       "    }\n",
       "</style>\n",
       "<table border=\"1\" class=\"dataframe\">\n",
       "  <thead>\n",
       "    <tr style=\"text-align: right;\">\n",
       "      <th></th>\n",
       "      <th>zipcode</th>\n",
       "      <th>freq</th>\n",
       "    </tr>\n",
       "  </thead>\n",
       "  <tbody>\n",
       "    <tr>\n",
       "      <th>0</th>\n",
       "      <td>10000</td>\n",
       "      <td>4</td>\n",
       "    </tr>\n",
       "    <tr>\n",
       "      <th>1</th>\n",
       "      <td>10001</td>\n",
       "      <td>273</td>\n",
       "    </tr>\n",
       "    <tr>\n",
       "      <th>2</th>\n",
       "      <td>10002</td>\n",
       "      <td>906</td>\n",
       "    </tr>\n",
       "    <tr>\n",
       "      <th>3</th>\n",
       "      <td>10003</td>\n",
       "      <td>415</td>\n",
       "    </tr>\n",
       "    <tr>\n",
       "      <th>4</th>\n",
       "      <td>10004</td>\n",
       "      <td>39</td>\n",
       "    </tr>\n",
       "    <tr>\n",
       "      <th>...</th>\n",
       "      <td>...</td>\n",
       "      <td>...</td>\n",
       "    </tr>\n",
       "    <tr>\n",
       "      <th>192</th>\n",
       "      <td>11692</td>\n",
       "      <td>134</td>\n",
       "    </tr>\n",
       "    <tr>\n",
       "      <th>193</th>\n",
       "      <td>11693</td>\n",
       "      <td>134</td>\n",
       "    </tr>\n",
       "    <tr>\n",
       "      <th>194</th>\n",
       "      <td>11694</td>\n",
       "      <td>209</td>\n",
       "    </tr>\n",
       "    <tr>\n",
       "      <th>195</th>\n",
       "      <td>11697</td>\n",
       "      <td>2</td>\n",
       "    </tr>\n",
       "    <tr>\n",
       "      <th>196</th>\n",
       "      <td>12345</td>\n",
       "      <td>2</td>\n",
       "    </tr>\n",
       "  </tbody>\n",
       "</table>\n",
       "<p>197 rows × 2 columns</p>\n",
       "</div>"
      ],
      "text/plain": [
       "     zipcode  freq\n",
       "0      10000     4\n",
       "1      10001   273\n",
       "2      10002   906\n",
       "3      10003   415\n",
       "4      10004    39\n",
       "..       ...   ...\n",
       "192    11692   134\n",
       "193    11693   134\n",
       "194    11694   209\n",
       "195    11697     2\n",
       "196    12345     2\n",
       "\n",
       "[197 rows x 2 columns]"
      ]
     },
     "execution_count": 123,
     "metadata": {},
     "output_type": "execute_result"
    }
   ],
   "source": [
    "#read data containing frequency of complaints per zipcode into df311\n",
    "df311=pd.read_csv('https://raw.githubusercontent.com/MarlaGoodman/IA-Project/main/nyc_311_zip.csv')\n",
    "df311"
   ]
  },
  {
   "cell_type": "code",
   "execution_count": 124,
   "metadata": {},
   "outputs": [],
   "source": [
    "#Merge the two dataframes\n",
    "#Only merging on the zip codes that match; Zipcodes not present in both dataframes won't be included in the merged df\n",
    "merged=df.merge(df311, left_on='Location', right_on='zipcode')"
   ]
  },
  {
   "cell_type": "code",
   "execution_count": 125,
   "metadata": {},
   "outputs": [],
   "source": [
    "#drop unwanted columns from merged df\n",
    "merged.drop(['index','Families_with_Children','Families_without_Children','zipcode'],axis=1,inplace=True)"
   ]
  },
  {
   "cell_type": "code",
   "execution_count": 126,
   "metadata": {},
   "outputs": [],
   "source": [
    "#rename merged df columns\n",
    "merged.rename(columns={\"freq\":\"Freq Complaint\",\"Location\": \"Zipcode\",\"All_Households\":\"Avg Inc Per House\",\"Families\": \n",
    "                       \"Avg Inc Per Fam\"},inplace=True)\n"
   ]
  },
  {
   "cell_type": "code",
   "execution_count": 127,
   "metadata": {},
   "outputs": [
    {
     "data": {
      "text/html": [
       "<div>\n",
       "<style scoped>\n",
       "    .dataframe tbody tr th:only-of-type {\n",
       "        vertical-align: middle;\n",
       "    }\n",
       "\n",
       "    .dataframe tbody tr th {\n",
       "        vertical-align: top;\n",
       "    }\n",
       "\n",
       "    .dataframe thead th {\n",
       "        text-align: right;\n",
       "    }\n",
       "</style>\n",
       "<table border=\"1\" class=\"dataframe\">\n",
       "  <thead>\n",
       "    <tr style=\"text-align: right;\">\n",
       "      <th></th>\n",
       "      <th>Zipcode</th>\n",
       "      <th>Avg Inc Per House</th>\n",
       "      <th>Avg Inc Per Fam</th>\n",
       "      <th>Freq Complaint</th>\n",
       "    </tr>\n",
       "  </thead>\n",
       "  <tbody>\n",
       "    <tr>\n",
       "      <th>0</th>\n",
       "      <td>10001</td>\n",
       "      <td>92840</td>\n",
       "      <td>122776</td>\n",
       "      <td>273</td>\n",
       "    </tr>\n",
       "    <tr>\n",
       "      <th>1</th>\n",
       "      <td>10002</td>\n",
       "      <td>36982</td>\n",
       "      <td>40045</td>\n",
       "      <td>906</td>\n",
       "    </tr>\n",
       "    <tr>\n",
       "      <th>2</th>\n",
       "      <td>10003</td>\n",
       "      <td>118161</td>\n",
       "      <td>183787</td>\n",
       "      <td>415</td>\n",
       "    </tr>\n",
       "    <tr>\n",
       "      <th>3</th>\n",
       "      <td>10004</td>\n",
       "      <td>190223</td>\n",
       "      <td>205202</td>\n",
       "      <td>39</td>\n",
       "    </tr>\n",
       "    <tr>\n",
       "      <th>4</th>\n",
       "      <td>10005</td>\n",
       "      <td>189702</td>\n",
       "      <td>241094</td>\n",
       "      <td>24</td>\n",
       "    </tr>\n",
       "  </tbody>\n",
       "</table>\n",
       "</div>"
      ],
      "text/plain": [
       "   Zipcode  Avg Inc Per House  Avg Inc Per Fam  Freq Complaint\n",
       "0    10001              92840           122776             273\n",
       "1    10002              36982            40045             906\n",
       "2    10003             118161           183787             415\n",
       "3    10004             190223           205202              39\n",
       "4    10005             189702           241094              24"
      ]
     },
     "execution_count": 127,
     "metadata": {},
     "output_type": "execute_result"
    }
   ],
   "source": [
    "#show some of merged df\n",
    "merged.head()"
   ]
  },
  {
   "cell_type": "code",
   "execution_count": 128,
   "metadata": {},
   "outputs": [],
   "source": [
    "#import libraries and assign features for graphs\n",
    "import matplotlib.pyplot as plt\n",
    "import seaborn as sns\n",
    "from scipy.stats import norm\n",
    "%matplotlib inline \n",
    "%config InlineBackend.figure_format = 'retina'\n",
    "plt.style.use('ggplot')\n",
    "plt.rcParams['figure.figsize'] = (10,5)"
   ]
  },
  {
   "cell_type": "markdown",
   "metadata": {},
   "source": [
    "#### QUICK EXPLORATORY DATA ANALYSIS FOR MERGED DATAFRAME:"
   ]
  },
  {
   "cell_type": "code",
   "execution_count": 129,
   "metadata": {},
   "outputs": [
    {
     "data": {
      "text/plain": [
       "0      10001\n",
       "1      10002\n",
       "2      10003\n",
       "3      10004\n",
       "4      10005\n",
       "       ...  \n",
       "175    11691\n",
       "176    11692\n",
       "177    11693\n",
       "178    11694\n",
       "179    11697\n",
       "Name: Zipcode, Length: 180, dtype: int64"
      ]
     },
     "execution_count": 129,
     "metadata": {},
     "output_type": "execute_result"
    }
   ],
   "source": [
    "#Zipcode column info \n",
    "merged['Zipcode']"
   ]
  },
  {
   "cell_type": "markdown",
   "metadata": {},
   "source": [
    "There are 180 zipcodes in the merged df, each one a unique zipcode. "
   ]
  },
  {
   "cell_type": "markdown",
   "metadata": {},
   "source": [
    "For our work, we will use the Average Income Per House column rather than the Average Income Per Family column."
   ]
  },
  {
   "cell_type": "code",
   "execution_count": 130,
   "metadata": {},
   "outputs": [
    {
     "data": {
      "text/plain": [
       "count       180.000000\n",
       "mean      78051.061111\n",
       "std       38006.824406\n",
       "min       21447.000000\n",
       "25%       54195.250000\n",
       "50%       70846.500000\n",
       "75%       93446.000000\n",
       "max      250001.000000\n",
       "Name: Avg Inc Per House, dtype: float64"
      ]
     },
     "execution_count": 130,
     "metadata": {},
     "output_type": "execute_result"
    }
   ],
   "source": [
    "#summary statistics\n",
    "merged['Avg Inc Per House'].describe()"
   ]
  },
  {
   "cell_type": "markdown",
   "metadata": {},
   "source": [
    "This column lets us know the average income per household per zip code (180 zip codes in our merged dataset). From the summary statistics, we see that the average income across all zipcodes is $78,051.06. "
   ]
  },
  {
   "cell_type": "code",
   "execution_count": 131,
   "metadata": {},
   "outputs": [
    {
     "data": {
      "image/png": "[encoded data removed]",
      "text/plain": [
       "<Figure size 720x360 with 1 Axes>"
      ]
     },
     "metadata": {
      "image/png": {
       "height": 302,
       "width": 592
      }
     },
     "output_type": "display_data"
    }
   ],
   "source": [
    "#graph Average Income Per Household\n",
    "plt.hist(merged['Avg Inc Per House'], edgecolor = 'black', linewidth = 1.2)\n",
    "plt.show();"
   ]
  },
  {
   "cell_type": "markdown",
   "metadata": {},
   "source": [
    "The graph above makes sense - more people will make little money on average. Fewer people will make lots of money on average. This series of data is skewed right because of the wealthy people in NYC. "
   ]
  },
  {
   "cell_type": "code",
   "execution_count": 132,
   "metadata": {},
   "outputs": [
    {
     "data": {
      "text/plain": [
       "count     180.000000\n",
       "mean      542.722222\n",
       "std       438.059447\n",
       "min         1.000000\n",
       "25%       228.000000\n",
       "50%       414.000000\n",
       "75%       821.750000\n",
       "max      2281.000000\n",
       "Name: Freq Complaint, dtype: float64"
      ]
     },
     "execution_count": 132,
     "metadata": {},
     "output_type": "execute_result"
    }
   ],
   "source": [
    "#summary statistics\n",
    "merged['Freq Complaint'].describe()"
   ]
  },
  {
   "cell_type": "markdown",
   "metadata": {},
   "source": [
    "The average number of complaints to 311 from 180 zipcodes is 542 complaints, with one zipcode having 2281 complaints and another zipcode having just 1. "
   ]
  },
  {
   "cell_type": "code",
   "execution_count": 133,
   "metadata": {},
   "outputs": [
    {
     "data": {
      "image/png": "[encoded data removed]",
      "text/plain": [
       "<Figure size 720x360 with 1 Axes>"
      ]
     },
     "metadata": {
      "image/png": {
       "height": 302,
       "width": 592
      }
     },
     "output_type": "display_data"
    }
   ],
   "source": [
    "plt.hist(merged['Freq Complaint'], edgecolor = 'black', linewidth = 1.2)\n",
    "plt.show();"
   ]
  },
  {
   "cell_type": "markdown",
   "metadata": {},
   "source": [
    "This graph makes sense - odd are that many zipcodes won't log as many as a thousand complaints in a given time. However, some zipcodes do log thousands of complaints. It is undetermined as to why. "
   ]
  },
  {
   "cell_type": "markdown",
   "metadata": {},
   "source": [
    "#### INITIAL ANALYSIS:"
   ]
  },
  {
   "cell_type": "markdown",
   "metadata": {},
   "source": [
    "We will create a scatterplot to see if there is any correlation between a zipcode's average income per household and the frequency of its complaints to 311."
   ]
  },
  {
   "cell_type": "code",
   "execution_count": 134,
   "metadata": {},
   "outputs": [
    {
     "data": {
      "image/png": "[encoded data removed]",
      "text/plain": [
       "<Figure size 720x360 with 1 Axes>"
      ]
     },
     "metadata": {
      "image/png": {
       "height": 318,
       "width": 620
      }
     },
     "output_type": "display_data"
    }
   ],
   "source": [
    "#graph scatterplot\n",
    "sns.scatterplot(x = merged['Avg Inc Per House'], \n",
    "                y =  merged['Freq Complaint'],  \n",
    "                size = merged['Zipcode'])\n",
    "plt.show();"
   ]
  },
  {
   "cell_type": "markdown",
   "metadata": {},
   "source": [
    "There appears to be more complaints the lower median income a zip code has. This does not mean that a low income average causes people to complain more, but this correlation is definitely something that could be looked into further."
   ]
  },
  {
   "cell_type": "markdown",
   "metadata": {},
   "source": [
    "#### SIMPLE LINEAR REGRESSION:"
   ]
  },
  {
   "cell_type": "code",
   "execution_count": 135,
   "metadata": {},
   "outputs": [],
   "source": [
    "#import libraries\n",
    "import numpy as np\n",
    "from sklearn.linear_model import LinearRegression"
   ]
  },
  {
   "cell_type": "code",
   "execution_count": 136,
   "metadata": {},
   "outputs": [],
   "source": [
    "#assign variables\n",
    "x = np.array(merged['Avg Inc Per House']).reshape((-1, 1))\n",
    "y = np.array(merged['Freq Complaint'])"
   ]
  },
  {
   "cell_type": "code",
   "execution_count": 137,
   "metadata": {},
   "outputs": [
    {
     "name": "stdout",
     "output_type": "stream",
     "text": [
      "coefficient of determination: 0.31452125779972784\n"
     ]
    }
   ],
   "source": [
    "#fit the model\n",
    "model = LinearRegression().fit(x, y)\n",
    "r_sq = model.score(x, y)\n",
    "print('coefficient of determination:', r_sq)"
   ]
  },
  {
   "cell_type": "markdown",
   "metadata": {},
   "source": [
    "An R2 of 31.50% is not terrible, considering we aren't trying to make predictions of this data now. Nearly 32% (or almost a third) of all the variation in the frequency of complaints from NYC zipcodes is explained by just the one variable of medican income per zipcode."
   ]
  },
  {
   "cell_type": "markdown",
   "metadata": {},
   "source": [
    "## HYPOTHESIS TESTING ON OTHER VARIABLES FROM OUR DATA"
   ]
  },
  {
   "cell_type": "markdown",
   "metadata": {},
   "source": [
    "#### CHI SQUARE TEST OF INDEPENDENCE\n",
    "\n",
    "We want to see if the timing variables (Pre/During Covid) and the 311 NYC complaints are associated or not."
   ]
  },
  {
   "cell_type": "code",
   "execution_count": 138,
   "metadata": {},
   "outputs": [
    {
     "data": {
      "text/html": [
       "<div>\n",
       "<style scoped>\n",
       "    .dataframe tbody tr th:only-of-type {\n",
       "        vertical-align: middle;\n",
       "    }\n",
       "\n",
       "    .dataframe tbody tr th {\n",
       "        vertical-align: top;\n",
       "    }\n",
       "\n",
       "    .dataframe thead th {\n",
       "        text-align: right;\n",
       "    }\n",
       "</style>\n",
       "<table border=\"1\" class=\"dataframe\">\n",
       "  <thead>\n",
       "    <tr style=\"text-align: right;\">\n",
       "      <th></th>\n",
       "      <th></th>\n",
       "      <th>ct_key</th>\n",
       "    </tr>\n",
       "    <tr>\n",
       "      <th>date_year</th>\n",
       "      <th>complaint_type</th>\n",
       "      <th></th>\n",
       "    </tr>\n",
       "  </thead>\n",
       "  <tbody>\n",
       "    <tr>\n",
       "      <th rowspan=\"3\" valign=\"top\">2019</th>\n",
       "      <th>Illegal Parking</th>\n",
       "      <td>246097</td>\n",
       "    </tr>\n",
       "    <tr>\n",
       "      <th>UNSANITARY CONDITION</th>\n",
       "      <td>61124</td>\n",
       "    </tr>\n",
       "    <tr>\n",
       "      <th>Water System</th>\n",
       "      <td>64446</td>\n",
       "    </tr>\n",
       "    <tr>\n",
       "      <th rowspan=\"3\" valign=\"top\">2020</th>\n",
       "      <th>Illegal Parking</th>\n",
       "      <td>238063</td>\n",
       "    </tr>\n",
       "    <tr>\n",
       "      <th>UNSANITARY CONDITION</th>\n",
       "      <td>70427</td>\n",
       "    </tr>\n",
       "    <tr>\n",
       "      <th>Water System</th>\n",
       "      <td>63748</td>\n",
       "    </tr>\n",
       "    <tr>\n",
       "      <th rowspan=\"2\" valign=\"top\">2021</th>\n",
       "      <th>UNSANITARY CONDITION</th>\n",
       "      <td>9974</td>\n",
       "    </tr>\n",
       "    <tr>\n",
       "      <th>Water System</th>\n",
       "      <td>7116</td>\n",
       "    </tr>\n",
       "  </tbody>\n",
       "</table>\n",
       "</div>"
      ],
      "text/plain": [
       "                                ct_key\n",
       "date_year complaint_type              \n",
       "2019      Illegal Parking       246097\n",
       "          UNSANITARY CONDITION   61124\n",
       "          Water System           64446\n",
       "2020      Illegal Parking       238063\n",
       "          UNSANITARY CONDITION   70427\n",
       "          Water System           63748\n",
       "2021      UNSANITARY CONDITION    9974\n",
       "          Water System            7116"
      ]
     },
     "execution_count": 138,
     "metadata": {},
     "output_type": "execute_result"
    }
   ],
   "source": [
    "#read complaint type/year data into dataframe\n",
    "df_cvc=pd.read_csv('https://raw.githubusercontent.com/MarlaGoodman/IA-Project/main/covid_year_ct.csv')\n",
    "#group data by year and then complaint type\n",
    "grouped = df_cvc.groupby(['date_year', 'complaint_type']).count()\n",
    "grouped"
   ]
  },
  {
   "cell_type": "markdown",
   "metadata": {},
   "source": [
    "#### Null Ho: There is no association between it being/not being Covid and the 311 NYC complaint type (ie they are independent).\n",
    "\n",
    "#### Alternative Ha: There is an association between these two categorical variables (ie they are not independent)."
   ]
  },
  {
   "cell_type": "markdown",
   "metadata": {},
   "source": [
    "Conditions for Chi Square Test Of Independence:\n",
    "\n",
    "1. We have a simple random sample -- this condition will be met below.\n",
    "\n",
    "2. In the contingency table, each cell has an expected count of at least 5 -- this condition will also be met below."
   ]
  },
  {
   "cell_type": "code",
   "execution_count": 139,
   "metadata": {},
   "outputs": [
    {
     "data": {
      "text/html": [
       "<div>\n",
       "<style scoped>\n",
       "    .dataframe tbody tr th:only-of-type {\n",
       "        vertical-align: middle;\n",
       "    }\n",
       "\n",
       "    .dataframe tbody tr th {\n",
       "        vertical-align: top;\n",
       "    }\n",
       "\n",
       "    .dataframe thead th {\n",
       "        text-align: right;\n",
       "    }\n",
       "</style>\n",
       "<table border=\"1\" class=\"dataframe\">\n",
       "  <thead>\n",
       "    <tr style=\"text-align: right;\">\n",
       "      <th></th>\n",
       "      <th>complaint_type</th>\n",
       "      <th>date_year</th>\n",
       "      <th>ct_key</th>\n",
       "    </tr>\n",
       "  </thead>\n",
       "  <tbody>\n",
       "    <tr>\n",
       "      <th>128037</th>\n",
       "      <td>Illegal Parking</td>\n",
       "      <td>2019</td>\n",
       "      <td>3</td>\n",
       "    </tr>\n",
       "    <tr>\n",
       "      <th>491755</th>\n",
       "      <td>UNSANITARY CONDITION</td>\n",
       "      <td>2019</td>\n",
       "      <td>9</td>\n",
       "    </tr>\n",
       "    <tr>\n",
       "      <th>470924</th>\n",
       "      <td>Illegal Parking</td>\n",
       "      <td>2020</td>\n",
       "      <td>3</td>\n",
       "    </tr>\n",
       "    <tr>\n",
       "      <th>491263</th>\n",
       "      <td>UNSANITARY CONDITION</td>\n",
       "      <td>2019</td>\n",
       "      <td>9</td>\n",
       "    </tr>\n",
       "    <tr>\n",
       "      <th>371403</th>\n",
       "      <td>Illegal Parking</td>\n",
       "      <td>2020</td>\n",
       "      <td>3</td>\n",
       "    </tr>\n",
       "  </tbody>\n",
       "</table>\n",
       "</div>"
      ],
      "text/plain": [
       "              complaint_type  date_year  ct_key\n",
       "128037       Illegal Parking       2019       3\n",
       "491755  UNSANITARY CONDITION       2019       9\n",
       "470924       Illegal Parking       2020       3\n",
       "491263  UNSANITARY CONDITION       2019       9\n",
       "371403       Illegal Parking       2020       3"
      ]
     },
     "execution_count": 139,
     "metadata": {},
     "output_type": "execute_result"
    }
   ],
   "source": [
    "#getting random sample\n",
    "data_sample=df_cvc.sample(n=70000,replace=True, random_state=1)\n",
    "\n",
    "#show some of random sample\n",
    "data_sample.head()\n",
    "\n",
    "#condition 1 is met"
   ]
  },
  {
   "cell_type": "code",
   "execution_count": 140,
   "metadata": {},
   "outputs": [
    {
     "data": {
      "text/html": [
       "<div>\n",
       "<style scoped>\n",
       "    .dataframe tbody tr th:only-of-type {\n",
       "        vertical-align: middle;\n",
       "    }\n",
       "\n",
       "    .dataframe tbody tr th {\n",
       "        vertical-align: top;\n",
       "    }\n",
       "\n",
       "    .dataframe thead th {\n",
       "        text-align: right;\n",
       "    }\n",
       "</style>\n",
       "<table border=\"1\" class=\"dataframe\">\n",
       "  <thead>\n",
       "    <tr style=\"text-align: right;\">\n",
       "      <th>complaint_type</th>\n",
       "      <th>Illegal Parking</th>\n",
       "      <th>UNSANITARY CONDITION</th>\n",
       "      <th>Water System</th>\n",
       "      <th>All</th>\n",
       "    </tr>\n",
       "    <tr>\n",
       "      <th>date_year</th>\n",
       "      <th></th>\n",
       "      <th></th>\n",
       "      <th></th>\n",
       "      <th></th>\n",
       "    </tr>\n",
       "  </thead>\n",
       "  <tbody>\n",
       "    <tr>\n",
       "      <th>2019</th>\n",
       "      <td>22471</td>\n",
       "      <td>5646</td>\n",
       "      <td>5925</td>\n",
       "      <td>34042</td>\n",
       "    </tr>\n",
       "    <tr>\n",
       "      <th>2020</th>\n",
       "      <td>21889</td>\n",
       "      <td>6516</td>\n",
       "      <td>5955</td>\n",
       "      <td>34360</td>\n",
       "    </tr>\n",
       "    <tr>\n",
       "      <th>2021</th>\n",
       "      <td>0</td>\n",
       "      <td>903</td>\n",
       "      <td>695</td>\n",
       "      <td>1598</td>\n",
       "    </tr>\n",
       "    <tr>\n",
       "      <th>All</th>\n",
       "      <td>44360</td>\n",
       "      <td>13065</td>\n",
       "      <td>12575</td>\n",
       "      <td>70000</td>\n",
       "    </tr>\n",
       "  </tbody>\n",
       "</table>\n",
       "</div>"
      ],
      "text/plain": [
       "complaint_type  Illegal Parking  UNSANITARY CONDITION  Water System    All\n",
       "date_year                                                                 \n",
       "2019                      22471                  5646          5925  34042\n",
       "2020                      21889                  6516          5955  34360\n",
       "2021                          0                   903           695   1598\n",
       "All                       44360                 13065         12575  70000"
      ]
     },
     "execution_count": 140,
     "metadata": {},
     "output_type": "execute_result"
    }
   ],
   "source": [
    "#creating contingency table\n",
    "table=pd.crosstab(data_sample['date_year'], data_sample['complaint_type'], margins=True)\n",
    "table"
   ]
  },
  {
   "cell_type": "code",
   "execution_count": 141,
   "metadata": {},
   "outputs": [
    {
     "name": "stdout",
     "output_type": "stream",
     "text": [
      "[21572.901714285716, 6353.696142857143, 6115.402142857143, 21774.422857142858, 6413.048571428571, 6172.528571428571, 1012.6754285714286, 298.2552857142857, 287.06928571428574]\n"
     ]
    }
   ],
   "source": [
    "#get expected counts for the contigency table cells \n",
    "#(E = [# of total row i observations * # of total column j observations]/total # of observations)\n",
    "\n",
    "row_sum = table.iloc[0:3,3].values\n",
    "exp = []\n",
    "for j in range(3):\n",
    "    for val in table.iloc[3,0:3].values:\n",
    "        exp.append(val * row_sum[j] / table.loc['All', 'All'])\n",
    "print(exp)"
   ]
  },
  {
   "cell_type": "markdown",
   "metadata": {},
   "source": [
    "As seen from above, the cells have expected counts of greater than 5. Condition 2 is met. "
   ]
  },
  {
   "cell_type": "markdown",
   "metadata": {},
   "source": [
    "To get X2, we do: (every observation - its expected count)^2 / its expected count) and sum all those values up.\n",
    "To get degrees of freedom, we do: (number of categories in the first variable-1)*(number of categories in the second variable-1). All this can be done using a python package."
   ]
  },
  {
   "cell_type": "code",
   "execution_count": 142,
   "metadata": {},
   "outputs": [],
   "source": [
    "#import libraries\n",
    "from scipy import stats\n",
    "from scipy.stats import chi2_contingency"
   ]
  },
  {
   "cell_type": "code",
   "execution_count": 143,
   "metadata": {},
   "outputs": [],
   "source": [
    "table_code=table[0:3].drop(['All'],axis=1)"
   ]
  },
  {
   "cell_type": "code",
   "execution_count": 144,
   "metadata": {},
   "outputs": [
    {
     "data": {
      "text/plain": [
       "(2950.601455682482,\n",
       " 0.0,\n",
       " 4,\n",
       " array([[21572.90171429,  6353.69614286,  6115.40214286],\n",
       "        [21774.42285714,  6413.04857143,  6172.52857143],\n",
       "        [ 1012.67542857,   298.25528571,   287.06928571]]))"
      ]
     },
     "execution_count": 144,
     "metadata": {},
     "output_type": "execute_result"
    }
   ],
   "source": [
    "#get info\n",
    "chi2_contingency(table_code)"
   ]
  },
  {
   "cell_type": "markdown",
   "metadata": {},
   "source": [
    "This has given us the 𝜒2 value, p-value, degree of freedom and the expected values:\n",
    "\n",
    "Chi is 2950.60\n",
    "\n",
    "P Value is 0.0\n",
    "\n",
    "Degree of Freedom is 4\n",
    "\n",
    "The expected counts are as we calculated above"
   ]
  },
  {
   "cell_type": "markdown",
   "metadata": {},
   "source": [
    "Using a significance level of .05 (95%), we see that the p-value (0) is less than the significance value. Therefore, we reject the null hypothesis and conclude that there is some association between the timing of covid (Pre or During) and the complaints received by 311 in NYC. "
   ]
  },
  {
   "cell_type": "markdown",
   "metadata": {},
   "source": [
    "Not only that but if X2 is greater than the critical value, we reject the null hypothesis. "
   ]
  },
  {
   "cell_type": "code",
   "execution_count": 145,
   "metadata": {},
   "outputs": [
    {
     "data": {
      "text/plain": [
       "9.487729036781154"
      ]
     },
     "execution_count": 145,
     "metadata": {},
     "output_type": "execute_result"
    }
   ],
   "source": [
    "#import package\n",
    "from scipy.stats import chi2\n",
    "\n",
    "#state significance level, p, & degrees of freedom to calculate critical value\n",
    "significance = 0.05\n",
    "p = 1 - significance\n",
    "dof = chi2_contingency(table_code)[2]\n",
    "critical_value = chi2.ppf(p, dof)\n",
    "\n",
    "critical_value"
   ]
  },
  {
   "cell_type": "markdown",
   "metadata": {},
   "source": [
    "2950.60 is greater than 9.49 by far, so again this proves we reject the null hypothesis. "
   ]
  },
  {
   "cell_type": "code",
   "execution_count": null,
   "metadata": {},
   "outputs": [],
   "source": []
  }
 ],
 "metadata": {
  "kernelspec": {
   "display_name": "Python 3",
   "language": "python",
   "name": "python3"
  },
  "language_info": {
   "codemirror_mode": {
    "name": "ipython",
    "version": 3
   },
   "file_extension": ".py",
   "mimetype": "text/x-python",
   "name": "python",
   "nbconvert_exporter": "python",
   "pygments_lexer": "ipython3",
   "version": "3.8.3"
  }
 },
 "nbformat": 4,
 "nbformat_minor": 4
}
