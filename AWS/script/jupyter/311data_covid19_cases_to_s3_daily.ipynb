{
 "cells": [
  {
   "cell_type": "markdown",
   "metadata": {},
   "source": [
    "- covid19 daily cases request from API and save to s3"
   ]
  },
  {
   "cell_type": "code",
   "execution_count": 1,
   "metadata": {},
   "outputs": [],
   "source": [
    "import requests\n",
    "import pandas as pd\n",
    "import boto3\n",
    "from datetime import datetime, timedelta\n",
    "from io import StringIO\n",
    "\n",
    "import group2setting\n",
    "\n",
    "def load_daily_covid_case():\n",
    "    file_name = 'https://raw.githubusercontent.com/nychealth/coronavirus-data/master/trends/cases-by-day.csv'\n",
    "    data_sample =pd.read_csv(file_name) \n",
    "\n",
    "    pd.set_option('display.max_columns', None)\n",
    "    print(data_sample.shape)\n",
    "    \n",
    "    return data_sample\n",
    "\n",
    "def save_daily_covid_case_into_s3(data_sample):\n",
    "\n",
    "    filename = 'Group_2_nyc_covid19_cases_by_day.csv'\n",
    "    bucketname = group2setting.s3_bucket\n",
    "    \n",
    "    print(bucketname)\n",
    "    \n",
    "    csv_buffer = StringIO()\n",
    "    data_sample.to_csv(csv_buffer)\n",
    "    \n",
    "    client = boto3.client('s3')\n",
    "    \n",
    "    response = client.put_object(\n",
    "        Body = csv_buffer.getvalue(),\n",
    "        Bucket = bucketname,\n",
    "        Key = filename\n",
    "    )\n",
    "    \n",
    "    print(response)\n",
    "    #print success message\n",
    "    print(\"Successfull uploaded file to location:\"+str(filename))\n",
    "\n",
    "def load_daily_covid_caserate():\n",
    "    file_name = 'https://raw.githubusercontent.com/nychealth/coronavirus-data/master/trends/caserate-by-modzcta.csv'\n",
    "    data_sample =pd.read_csv(file_name) \n",
    "\n",
    "    pd.set_option('display.max_columns', None)\n",
    "    print(data_sample.shape)\n",
    "    \n",
    "    return data_sample\n",
    "\n",
    "\n",
    "def save_daily_covid_caserate_into_s3(data_sample):\n",
    "    filename = 'Group_2_nyc_covid19_caserate_by_zipcode.csv'\n",
    "    bucketname = group2setting.s3_bucket\n",
    "    \n",
    "    \n",
    "    csv_buffer = StringIO()\n",
    "    data_sample.to_csv(csv_buffer)\n",
    "    \n",
    "    client = boto3.client('s3')\n",
    "    \n",
    "    response = client.put_object(\n",
    "        Body = csv_buffer.getvalue(),\n",
    "        Bucket = bucketname,\n",
    "        Key = filename\n",
    "    )\n",
    "    \n",
    "    print(response)\n",
    "    #print success message\n",
    "    print(\"Successfull uploaded file to location:\"+str(filename))\n",
    "\n",
    "\n",
    "def lambda_handler(event, context):\n",
    "    # load covid case\n",
    "    case_sample = load_daily_covid_case()\n",
    "    # save covid case to s3\n",
    "    save_daily_covid_case_into_s3(case_sample)\n",
    "    \n",
    "    # load covid rate\n",
    "    caserate_sample = load_daily_covid_caserate()\n",
    "    # save covid case rate to s3\n",
    "    save_daily_covid_caserate_into_s3(caserate_sample)\n",
    "\n",
    "    \n"
   ]
  },
  {
   "cell_type": "code",
   "execution_count": 2,
   "metadata": {},
   "outputs": [
    {
     "name": "stdout",
     "output_type": "stream",
     "text": [
      "(427, 26)\n",
      "information-arch-yuehao-wang-assignment-8a\n",
      "{'ResponseMetadata': {'RequestId': '2H227X6Z70VRSZ8J', 'HostId': 'CylKRi/+Accqmufa6B+B3fw7INR9m8H8xnaUxVm+K4h2dWnZapyQJqhlzM4Rr80xmRdu/1frB9M=', 'HTTPStatusCode': 200, 'HTTPHeaders': {'x-amz-id-2': 'CylKRi/+Accqmufa6B+B3fw7INR9m8H8xnaUxVm+K4h2dWnZapyQJqhlzM4Rr80xmRdu/1frB9M=', 'x-amz-request-id': '2H227X6Z70VRSZ8J', 'date': 'Tue, 04 May 2021 03:25:12 GMT', 'etag': '\"83bb22cebc72363b047ee646f19a1cfc\"', 'content-length': '0', 'server': 'AmazonS3'}, 'RetryAttempts': 0}, 'ETag': '\"83bb22cebc72363b047ee646f19a1cfc\"'}\n",
      "Successfull uploaded file to location:Group_2_nyc_covid19_cases_by_day.csv\n",
      "(38, 184)\n",
      "{'ResponseMetadata': {'RequestId': 'D6P9SXCH572B60FN', 'HostId': '+wByfthktcLDfxb9Kb38kamLr/tqFjK0ghSLWFxL8ALEP1Voy5yARCLVjggrhUH7+lRRnXHCJCQ=', 'HTTPStatusCode': 200, 'HTTPHeaders': {'x-amz-id-2': '+wByfthktcLDfxb9Kb38kamLr/tqFjK0ghSLWFxL8ALEP1Voy5yARCLVjggrhUH7+lRRnXHCJCQ=', 'x-amz-request-id': 'D6P9SXCH572B60FN', 'date': 'Tue, 04 May 2021 03:25:13 GMT', 'etag': '\"0074ffaa517c95e37c7181452e8ff3ad\"', 'content-length': '0', 'server': 'AmazonS3'}, 'RetryAttempts': 0}, 'ETag': '\"0074ffaa517c95e37c7181452e8ff3ad\"'}\n",
      "Successfull uploaded file to location:Group_2_nyc_covid19_caserate_by_zipcode.csv\n"
     ]
    }
   ],
   "source": [
    "lambda_handler(1,2)"
   ]
  }
 ],
 "metadata": {
  "kernelspec": {
   "display_name": "Python 3",
   "language": "python",
   "name": "python3"
  },
  "language_info": {
   "codemirror_mode": {
    "name": "ipython",
    "version": 3
   },
   "file_extension": ".py",
   "mimetype": "text/x-python",
   "name": "python",
   "nbconvert_exporter": "python",
   "pygments_lexer": "ipython3",
   "version": "3.8.5"
  }
 },
 "nbformat": 4,
 "nbformat_minor": 4
}
